{
 "cells": [
  {
   "cell_type": "code",
   "execution_count": 77,
   "metadata": {},
   "outputs": [],
   "source": [
    "import numpy as np \n",
    "import keras\n",
    "from keras.models import Sequential\n",
    "from keras.layers import Dense, Flatten, Dropout\n",
    "from keras.optimizers import Adam\n",
    "from keras.utils import np_utils \n",
    "from keras import backend as K \n",
    "import pandas as pd\n",
    "from sklearn.model_selection import train_test_split\n",
    "import matplotlib.pyplot as plt"
   ]
  },
  {
   "cell_type": "markdown",
   "metadata": {},
   "source": [
    "## 1. Trying different dataset sizes\n",
    "Importing data from the .csv file"
   ]
  },
  {
   "cell_type": "code",
   "execution_count": 54,
   "metadata": {},
   "outputs": [],
   "source": [
    "data = pd.read_csv(\"dict1.csv\", header = None, names = [\"Angles\", \"XY\"])"
   ]
  },
  {
   "cell_type": "code",
   "execution_count": 178,
   "metadata": {},
   "outputs": [
    {
     "data": {
      "text/html": [
       "<div>\n",
       "<style scoped>\n",
       "    .dataframe tbody tr th:only-of-type {\n",
       "        vertical-align: middle;\n",
       "    }\n",
       "\n",
       "    .dataframe tbody tr th {\n",
       "        vertical-align: top;\n",
       "    }\n",
       "\n",
       "    .dataframe thead th {\n",
       "        text-align: right;\n",
       "    }\n",
       "</style>\n",
       "<table border=\"1\" class=\"dataframe\">\n",
       "  <thead>\n",
       "    <tr style=\"text-align: right;\">\n",
       "      <th></th>\n",
       "      <th>Angles</th>\n",
       "      <th>XY</th>\n",
       "    </tr>\n",
       "  </thead>\n",
       "  <tbody>\n",
       "    <tr>\n",
       "      <th>0</th>\n",
       "      <td>-0.40510000000000002, -0.097100000000000006, -...</td>\n",
       "      <td>3.5048 0.9169 0.25</td>\n",
       "    </tr>\n",
       "    <tr>\n",
       "      <th>1</th>\n",
       "      <td>-0.19320000000000001, 0.1341, -0.2646999999999...</td>\n",
       "      <td>3.6347 0.3976 0.25</td>\n",
       "    </tr>\n",
       "    <tr>\n",
       "      <th>2</th>\n",
       "      <td>0.192, 0.155, -0.28570000000000001, -0.3931999...</td>\n",
       "      <td>3.1567 -1.6357 0.25</td>\n",
       "    </tr>\n",
       "    <tr>\n",
       "      <th>3</th>\n",
       "      <td>0.24679999999999999, -0.18140000000000001, 0.1...</td>\n",
       "      <td>3.2989 -1.5492 0.25</td>\n",
       "    </tr>\n",
       "    <tr>\n",
       "      <th>4</th>\n",
       "      <td>-0.35449999999999998, 0.3926, 0.1613, 0.078299...</td>\n",
       "      <td>3.6155 -0.2022 0.25</td>\n",
       "    </tr>\n",
       "    <tr>\n",
       "      <th>5</th>\n",
       "      <td>0.31819999999999998, -0.22770000000000001, -0....</td>\n",
       "      <td>3.6511 -0.3356 0.25</td>\n",
       "    </tr>\n",
       "    <tr>\n",
       "      <th>6</th>\n",
       "      <td>0.4531, 0.085400000000000004, 0.4546, 0.098799...</td>\n",
       "      <td>3.4324 0.4782 0.25</td>\n",
       "    </tr>\n",
       "    <tr>\n",
       "      <th>7</th>\n",
       "      <td>0.1404, -0.065500000000000003, -0.084099999999...</td>\n",
       "      <td>3.6861 0.241 0.25</td>\n",
       "    </tr>\n",
       "    <tr>\n",
       "      <th>8</th>\n",
       "      <td>0.34379999999999999, 0.27279999999999999, -0.4...</td>\n",
       "      <td>3.1972 -1.6062 0.25</td>\n",
       "    </tr>\n",
       "    <tr>\n",
       "      <th>9</th>\n",
       "      <td>0.21460000000000001, -0.1293, -0.0403999999999...</td>\n",
       "      <td>3.6256 0.3925 0.25</td>\n",
       "    </tr>\n",
       "  </tbody>\n",
       "</table>\n",
       "</div>"
      ],
      "text/plain": [
       "                                              Angles                   XY\n",
       "0  -0.40510000000000002, -0.097100000000000006, -...   3.5048 0.9169 0.25\n",
       "1  -0.19320000000000001, 0.1341, -0.2646999999999...   3.6347 0.3976 0.25\n",
       "2  0.192, 0.155, -0.28570000000000001, -0.3931999...  3.1567 -1.6357 0.25\n",
       "3  0.24679999999999999, -0.18140000000000001, 0.1...  3.2989 -1.5492 0.25\n",
       "4  -0.35449999999999998, 0.3926, 0.1613, 0.078299...  3.6155 -0.2022 0.25\n",
       "5  0.31819999999999998, -0.22770000000000001, -0....  3.6511 -0.3356 0.25\n",
       "6  0.4531, 0.085400000000000004, 0.4546, 0.098799...   3.4324 0.4782 0.25\n",
       "7  0.1404, -0.065500000000000003, -0.084099999999...    3.6861 0.241 0.25\n",
       "8  0.34379999999999999, 0.27279999999999999, -0.4...  3.1972 -1.6062 0.25\n",
       "9  0.21460000000000001, -0.1293, -0.0403999999999...   3.6256 0.3925 0.25"
      ]
     },
     "execution_count": 178,
     "metadata": {},
     "output_type": "execute_result"
    }
   ],
   "source": [
    "data.head(10)"
   ]
  },
  {
   "cell_type": "markdown",
   "metadata": {},
   "source": [
    "Establishing labels and observations"
   ]
  },
  {
   "cell_type": "code",
   "execution_count": 55,
   "metadata": {},
   "outputs": [],
   "source": [
    "train = data['Angles'].to_numpy()\n",
    "labels = data['XY'].to_numpy()"
   ]
  },
  {
   "cell_type": "markdown",
   "metadata": {},
   "source": [
    "Formatting of the data to the computer-readable format and dividing into training and testing sets"
   ]
  },
  {
   "cell_type": "code",
   "execution_count": 64,
   "metadata": {},
   "outputs": [],
   "source": [
    "X = list()\n",
    "Y = list()\n",
    "for i in range(len(train)):\n",
    "    labels[i] = labels[i].replace('   ', ' ')\n",
    "    labels[i] = labels[i].replace('  ', ' ')\n",
    "    labels[i] = labels[i].strip('[ ').strip(' ]')\n",
    "    train[i] = train[i].strip('(').strip(')')\n",
    "    result = [float(val) for val in train[i].split(',')]\n",
    "    X.append(result)\n",
    "    result = [float(val) for val in labels[i].split(' ')]\n",
    "    Y.append(result)"
   ]
  },
  {
   "cell_type": "markdown",
   "metadata": {},
   "source": [
    "Defining RMS error function"
   ]
  },
  {
   "cell_type": "code",
   "execution_count": 70,
   "metadata": {},
   "outputs": [],
   "source": [
    "def rmse(y_true, y_pred):\n",
    "    return K.sqrt(K.mean(K.square(y_pred - y_true)))\n",
    "\n",
    "model = Sequential()\n",
    "model.add(Dense(10, input_dim =5, activation = 'relu'))\n",
    "model.add(Dense(16, activation = 'relu'))\n",
    "model.add(Dense(2, activation='linear'))\n",
    "model.compile(loss=rmse, optimizer=Adam(0.01))"
   ]
  },
  {
   "cell_type": "markdown",
   "metadata": {},
   "source": [
    "Looping through experiments with a different size of a dataset"
   ]
  },
  {
   "cell_type": "code",
   "execution_count": 71,
   "metadata": {},
   "outputs": [],
   "source": [
    "test_size_rmse = []\n",
    "n = range(100, 5100, 100)\n",
    "for i in range(1,51):\n",
    "    X_train, X_test, y_train, y_test = train_test_split(np.asarray(X[0:i*100]), np.asarray(Y[0:i*100]), test_size=0.80)\n",
    "    y_train = np.delete(y_train, 2, 1)\n",
    "    y_test = np.delete(y_test, 2, 1)\n",
    "    model.fit(X_train, y_train, epochs = 10, verbose = 0)\n",
    "    scores = model.evaluate(X_test, y_test, verbose=0) \n",
    "    test_size_rmse.append(scores)"
   ]
  },
  {
   "cell_type": "markdown",
   "metadata": {},
   "source": [
    "Plotting correlation data"
   ]
  },
  {
   "cell_type": "code",
   "execution_count": 72,
   "metadata": {},
   "outputs": [
    {
     "data": {
      "image/png": "[encoded data removed]",
      "text/plain": [
       "<matplotlib.figure.Figure at 0x7f3427a7c1d0>"
      ]
     },
     "metadata": {
      "needs_background": "light"
     },
     "output_type": "display_data"
    }
   ],
   "source": [
    "plt.plot(n,test_size_rmse)\n",
    "plt.xlabel(\"Size of the dataset\")\n",
    "plt.ylabel(\"RMSE value\")\n",
    "plt.title(\"Correlation plot between the size of the dataset and resulting RMSE\")\n",
    "plt.show()"
   ]
  },
  {
   "cell_type": "markdown",
   "metadata": {},
   "source": [
    "**Considering those results we take the whole datatset consisting of 5000 observations**"
   ]
  },
  {
   "cell_type": "markdown",
   "metadata": {},
   "source": [
    "## 2. Trying different losses\n",
    "a) MSLE - Mean Squared Logarithmic Error"
   ]
  },
  {
   "cell_type": "code",
   "execution_count": 87,
   "metadata": {},
   "outputs": [
    {
     "name": "stdout",
     "output_type": "stream",
     "text": [
      "RMSE: 0.00349\n"
     ]
    }
   ],
   "source": [
    "model = Sequential()\n",
    "model.add(Dense(10, input_dim =5, activation = 'relu'))\n",
    "model.add(Dense(16, activation = 'relu'))\n",
    "model.add(Dense(2, activation='linear'))\n",
    "model.compile(loss='mean_squared_logarithmic_error', optimizer=Adam(0.01))\n",
    "\n",
    "X_train, X_test, y_train, y_test = train_test_split(np.asarray(X), np.asarray(Y), test_size=0.80)\n",
    "y_train = np.delete(y_train, 2, 1)\n",
    "y_test = np.delete(y_test, 2, 1)\n",
    "model.fit(X_train, y_train, epochs = 10, verbose = 0)\n",
    "scores_msle = model.evaluate(X_test, y_test, verbose=0) \n",
    "print(\"RMSE: %.5f\" % (scores_msle))"
   ]
  },
  {
   "cell_type": "markdown",
   "metadata": {},
   "source": [
    "b) MAE - Mean Absolute Error"
   ]
  },
  {
   "cell_type": "code",
   "execution_count": 88,
   "metadata": {},
   "outputs": [
    {
     "name": "stdout",
     "output_type": "stream",
     "text": [
      "RMSE: 0.05830\n"
     ]
    }
   ],
   "source": [
    "model = Sequential()\n",
    "model.add(Dense(10, input_dim =5, activation = 'relu'))\n",
    "model.add(Dense(16, activation = 'relu'))\n",
    "model.add(Dense(2, activation='linear'))\n",
    "model.compile(loss='mean_absolute_error', optimizer=Adam(0.01))\n",
    "\n",
    "X_train, X_test, y_train, y_test = train_test_split(np.asarray(X), np.asarray(Y), test_size=0.80)\n",
    "y_train = np.delete(y_train, 2, 1)\n",
    "y_test = np.delete(y_test, 2, 1)\n",
    "model.fit(X_train, y_train, epochs = 10, verbose = 0)\n",
    "scores_mae = model.evaluate(X_test, y_test, verbose=0) \n",
    "print(\"RMSE: %.5f\" % (scores_mae))"
   ]
  },
  {
   "cell_type": "markdown",
   "metadata": {},
   "source": [
    "c) MSE - Mean Squared Error"
   ]
  },
  {
   "cell_type": "code",
   "execution_count": 89,
   "metadata": {},
   "outputs": [
    {
     "name": "stdout",
     "output_type": "stream",
     "text": [
      "RMSE: 0.01906\n"
     ]
    }
   ],
   "source": [
    "model = Sequential()\n",
    "model.add(Dense(10, input_dim =5, activation = 'relu'))\n",
    "model.add(Dense(16, activation = 'relu'))\n",
    "model.add(Dense(2, activation='linear'))\n",
    "model.compile(loss='mean_squared_error', optimizer=Adam(0.01))\n",
    "\n",
    "X_train, X_test, y_train, y_test = train_test_split(np.asarray(X), np.asarray(Y), test_size=0.80)\n",
    "y_train = np.delete(y_train, 2, 1)\n",
    "y_test = np.delete(y_test, 2, 1)\n",
    "model.fit(X_train, y_train, epochs = 10, verbose = 0)\n",
    "scores_mse = model.evaluate(X_test, y_test, verbose=0) \n",
    "print(\"RMSE: %.5f\" % (scores_mse))"
   ]
  },
  {
   "cell_type": "markdown",
   "metadata": {},
   "source": [
    "d) Regular RMSE"
   ]
  },
  {
   "cell_type": "code",
   "execution_count": 120,
   "metadata": {},
   "outputs": [
    {
     "name": "stdout",
     "output_type": "stream",
     "text": [
      "RMSE: 0.07049\n"
     ]
    }
   ],
   "source": [
    "def rmse(y_true, y_pred):\n",
    "    return K.sqrt(K.mean(K.square(y_pred - y_true)))\n",
    "\n",
    "model = Sequential()\n",
    "model.add(Dense(10, input_dim =5, activation = 'relu'))\n",
    "model.add(Dense(16, activation = 'relu'))\n",
    "model.add(Dense(2, activation='linear'))\n",
    "model.compile(loss=rmse, optimizer=Adam(0.01))\n",
    "\n",
    "X_train, X_test, y_train, y_test = train_test_split(np.asarray(X), np.asarray(Y), test_size=0.80)\n",
    "y_train = np.delete(y_train, 2, 1)\n",
    "y_test = np.delete(y_test, 2, 1)\n",
    "model.fit(X_train, y_train, epochs = 10, verbose = 0)\n",
    "scores = model.evaluate(X_test, y_test, verbose=0) \n",
    "print(\"RMSE: %.5f\" % (scores))"
   ]
  },
  {
   "cell_type": "markdown",
   "metadata": {},
   "source": [
    "Bar plot for comparison"
   ]
  },
  {
   "cell_type": "code",
   "execution_count": 121,
   "metadata": {},
   "outputs": [
    {
     "data": {
      "image/png": "[encoded data removed]",
      "text/plain": [
       "<matplotlib.figure.Figure at 0x7f343cc9ebd0>"
      ]
     },
     "metadata": {
      "needs_background": "light"
     },
     "output_type": "display_data"
    }
   ],
   "source": [
    "error_names = ['RMSE','MSLE','MAE','MSE']\n",
    "errors = [scores, scores_msle, scores_mae, scores_mse]\n",
    "\n",
    "plt.bar(range(len(error_names)), errors, color = 'maroon')\n",
    "plt.xticks(range(len(error_names)), error_names, rotation='vertical')\n",
    "plt.xlabel(\"Types of loss functions\")\n",
    "plt.ylabel(\"RMSE value\")\n",
    "plt.title(\"RMSE values of different types of loss functions\")\n",
    "plt.show()"
   ]
  },
  {
   "cell_type": "markdown",
   "metadata": {},
   "source": [
    "**Considering the results of this testing we use MSLE in order to further improve out results**"
   ]
  },
  {
   "cell_type": "markdown",
   "metadata": {},
   "source": [
    "## 3. Testing different number of layers\n",
    "Loopint through the outcomes with the different number of layers"
   ]
  },
  {
   "cell_type": "code",
   "execution_count": 126,
   "metadata": {},
   "outputs": [
    {
     "name": "stdout",
     "output_type": "stream",
     "text": [
      "Numer of layers: 2 |   RMSE: 0.00310\n",
      "Numer of layers: 3 |   RMSE: 0.00211\n",
      "Numer of layers: 4 |   RMSE: 0.00085\n",
      "Numer of layers: 5 |   RMSE: 0.00199\n",
      "Numer of layers: 6 |   RMSE: 0.00067\n",
      "Numer of layers: 7 |   RMSE: 0.00073\n",
      "Numer of layers: 8 |   RMSE: 0.00087\n",
      "Numer of layers: 9 |   RMSE: 0.12890\n",
      "Numer of layers: 10 |   RMSE: 0.00170\n",
      "Numer of layers: 11 |   RMSE: 0.00095\n",
      "Numer of layers: 12 |   RMSE: 0.00062\n",
      "Numer of layers: 13 |   RMSE: 1.20081\n",
      "Numer of layers: 14 |   RMSE: 0.13224\n",
      "Numer of layers: 15 |   RMSE: 0.00222\n",
      "Numer of layers: 16 |   RMSE: 0.13028\n",
      "Numer of layers: 17 |   RMSE: 1.07331\n",
      "Numer of layers: 18 |   RMSE: 0.00237\n",
      "Numer of layers: 19 |   RMSE: 1.20336\n",
      "Numer of layers: 20 |   RMSE: 0.13197\n",
      "Numer of layers: 21 |   RMSE: 0.00449\n",
      "Numer of layers: 22 |   RMSE: 1.20201\n",
      "Numer of layers: 23 |   RMSE: 1.20167\n",
      "Numer of layers: 24 |   RMSE: 1.20249\n",
      "Numer of layers: 25 |   RMSE: 0.13238\n",
      "Numer of layers: 26 |   RMSE: 0.12754\n",
      "Numer of layers: 27 |   RMSE: 0.13191\n",
      "Numer of layers: 28 |   RMSE: 0.07431\n",
      "Numer of layers: 29 |   RMSE: 1.20234\n",
      "Numer of layers: 30 |   RMSE: 0.08709\n"
     ]
    }
   ],
   "source": [
    "layers_scores = []\n",
    "\n",
    "for i in range(1,30):\n",
    "    model = Sequential()\n",
    "    numb = 0\n",
    "    model.add(Dense(10, input_dim =5, activation = 'relu'))\n",
    "    numb += 1\n",
    "    for r in range(1,i):\n",
    "        model.add(Dense(16, activation = 'relu'))\n",
    "        numb += 1\n",
    "    model.add(Dense(2, activation='linear'))\n",
    "    numb += 1\n",
    "    model.compile(loss='mean_squared_logarithmic_error', optimizer=Adam(0.01))\n",
    "\n",
    "    X_train, X_test, y_train, y_test = train_test_split(np.asarray(X), np.asarray(Y), test_size=0.80)\n",
    "    y_train = np.delete(y_train, 2, 1)\n",
    "    y_test = np.delete(y_test, 2, 1)\n",
    "    model.fit(X_train, y_train, epochs = 10, verbose = 0)\n",
    "    score = model.evaluate(X_test, y_test, verbose=0) \n",
    "    print(\"Numer of layers: %d |   RMSE: %.5f\" % (numb, score))\n",
    "    layers_scores.append(score)"
   ]
  },
  {
   "cell_type": "markdown",
   "metadata": {},
   "source": [
    "Plotting the resulting correlation graph"
   ]
  },
  {
   "cell_type": "code",
   "execution_count": 129,
   "metadata": {},
   "outputs": [
    {
     "data": {
      "image/png": "[encoded data removed]",
      "text/plain": [
       "<matplotlib.figure.Figure at 0x7f34260d43d0>"
      ]
     },
     "metadata": {
      "needs_background": "light"
     },
     "output_type": "display_data"
    }
   ],
   "source": [
    "numb_arr = range(2,31)\n",
    "\n",
    "plt.plot(numb_arr,layers_scores)\n",
    "plt.xlabel(\"Number of layers in the model\")\n",
    "plt.ylabel(\"RMSE value\")\n",
    "plt.title(\"Correlation plot between the number of layers in a model and resulting RMSE\")\n",
    "plt.show()"
   ]
  },
  {
   "cell_type": "markdown",
   "metadata": {},
   "source": [
    "**Therefore, the number of layers I'm going to use further is 4 layers**"
   ]
  },
  {
   "cell_type": "markdown",
   "metadata": {},
   "source": [
    "## 5. Testing different optimizers\n",
    "a) \"Adam\""
   ]
  },
  {
   "cell_type": "code",
   "execution_count": 177,
   "metadata": {},
   "outputs": [
    {
     "name": "stdout",
     "output_type": "stream",
     "text": [
      "RMSE: 0.00121\n"
     ]
    }
   ],
   "source": [
    "model = Sequential()\n",
    "model.add(Dense(10, input_dim =5, activation = 'relu'))\n",
    "model.add(Dense(16, activation = 'relu'))\n",
    "model.add(Dense(16, activation = 'relu'))\n",
    "model.add(Dense(2, activation='linear'))\n",
    "model.compile(loss='mean_squared_logarithmic_error', optimizer=Adam(0.01))\n",
    "\n",
    "X_train, X_test, y_train, y_test = train_test_split(np.asarray(X), np.asarray(Y), test_size=0.80)\n",
    "y_train = np.delete(y_train, 2, 1)\n",
    "y_test = np.delete(y_test, 2, 1)\n",
    "model.fit(X_train, y_train, epochs = 10, verbose = 0)\n",
    "scores_adam = model.evaluate(X_test, y_test, verbose=0) \n",
    "print(\"RMSE: %.5f\" % (scores_adam))"
   ]
  },
  {
   "cell_type": "markdown",
   "metadata": {},
   "source": [
    "b) \"SGD\""
   ]
  },
  {
   "cell_type": "code",
   "execution_count": 168,
   "metadata": {},
   "outputs": [
    {
     "name": "stdout",
     "output_type": "stream",
     "text": [
      "RMSE: 0.07395\n"
     ]
    }
   ],
   "source": [
    "model = Sequential()\n",
    "model.add(Dense(10, input_dim =5, activation = 'relu'))\n",
    "model.add(Dense(16, activation = 'relu'))\n",
    "model.add(Dense(16, activation = 'relu'))\n",
    "model.add(Dense(2, activation='linear'))\n",
    "model.compile(loss='mean_squared_logarithmic_error', optimizer='sgd')\n",
    "\n",
    "X_train, X_test, y_train, y_test = train_test_split(np.asarray(X), np.asarray(Y), test_size=0.80)\n",
    "y_train = np.delete(y_train, 2, 1)\n",
    "y_test = np.delete(y_test, 2, 1)\n",
    "model.fit(X_train, y_train, epochs = 10, verbose = 0)\n",
    "scores_adam = model.evaluate(X_test, y_test, verbose=0) \n",
    "print(\"RMSE: %.5f\" % (scores_adam))"
   ]
  },
  {
   "cell_type": "markdown",
   "metadata": {},
   "source": [
    "c) \"Adagrad\""
   ]
  },
  {
   "cell_type": "code",
   "execution_count": 169,
   "metadata": {},
   "outputs": [
    {
     "name": "stdout",
     "output_type": "stream",
     "text": [
      "RMSE: 0.01524\n"
     ]
    }
   ],
   "source": [
    "model = Sequential()\n",
    "model.add(Dense(10, input_dim =5, activation = 'relu'))\n",
    "model.add(Dense(16, activation = 'relu'))\n",
    "model.add(Dense(16, activation = 'relu'))\n",
    "model.add(Dense(2, activation='linear'))\n",
    "model.compile(loss='mean_squared_logarithmic_error', optimizer='Adagrad')\n",
    "\n",
    "X_train, X_test, y_train, y_test = train_test_split(np.asarray(X), np.asarray(Y), test_size=0.80)\n",
    "y_train = np.delete(y_train, 2, 1)\n",
    "y_test = np.delete(y_test, 2, 1)\n",
    "model.fit(X_train, y_train, epochs = 10, verbose = 0)\n",
    "scores_adam = model.evaluate(X_test, y_test, verbose=0) \n",
    "print(\"RMSE: %.5f\" % (scores_adam))"
   ]
  },
  {
   "cell_type": "markdown",
   "metadata": {},
   "source": [
    "d) \"Adadelta\""
   ]
  },
  {
   "cell_type": "code",
   "execution_count": 170,
   "metadata": {},
   "outputs": [
    {
     "name": "stdout",
     "output_type": "stream",
     "text": [
      "RMSE: 0.01023\n"
     ]
    }
   ],
   "source": [
    "model = Sequential()\n",
    "model.add(Dense(10, input_dim =5, activation = 'relu'))\n",
    "model.add(Dense(16, activation = 'relu'))\n",
    "model.add(Dense(16, activation = 'relu'))\n",
    "model.add(Dense(2, activation='linear'))\n",
    "model.compile(loss='mean_squared_logarithmic_error', optimizer='Adadelta')\n",
    "\n",
    "X_train, X_test, y_train, y_test = train_test_split(np.asarray(X), np.asarray(Y), test_size=0.80)\n",
    "y_train = np.delete(y_train, 2, 1)\n",
    "y_test = np.delete(y_test, 2, 1)\n",
    "model.fit(X_train, y_train, epochs = 10, verbose = 0)\n",
    "scores_adam = model.evaluate(X_test, y_test, verbose=0) \n",
    "print(\"RMSE: %.5f\" % (scores_adam))"
   ]
  },
  {
   "cell_type": "markdown",
   "metadata": {},
   "source": [
    "e) \"RMSprop\""
   ]
  },
  {
   "cell_type": "code",
   "execution_count": 172,
   "metadata": {},
   "outputs": [
    {
     "name": "stdout",
     "output_type": "stream",
     "text": [
      "RMSE: 0.13256\n"
     ]
    }
   ],
   "source": [
    "model = Sequential()\n",
    "model.add(Dense(10, input_dim =5, activation = 'relu'))\n",
    "model.add(Dense(16, activation = 'relu'))\n",
    "model.add(Dense(16, activation = 'relu'))\n",
    "model.add(Dense(2, activation='linear'))\n",
    "model.compile(loss='mean_squared_logarithmic_error', optimizer='RMSprop')\n",
    "\n",
    "X_train, X_test, y_train, y_test = train_test_split(np.asarray(X), np.asarray(Y), test_size=0.80)\n",
    "y_train = np.delete(y_train, 2, 1)\n",
    "y_test = np.delete(y_test, 2, 1)\n",
    "model.fit(X_train, y_train, epochs = 10, verbose = 0)\n",
    "scores_adam = model.evaluate(X_test, y_test, verbose=0) \n",
    "print(\"RMSE: %.5f\" % (scores_adam))"
   ]
  },
  {
   "cell_type": "markdown",
   "metadata": {},
   "source": [
    "**The best optimizer so far belongs to \"Adam\" in this case**"
   ]
  },
  {
   "cell_type": "markdown",
   "metadata": {},
   "source": [
    "# Final Performance:\n",
    "### Old RMSE = 0.07 |     New RMSE = 0.001\n",
    "### Used properties: \n",
    "Data-set of 5000 observations <br>\n",
    "Loss function: MSLE - Mean Squared Logarithmic Error<br>\n",
    "Number of layers: 6<br>\n",
    "Numberof nodes in each layer: 70<br>"
   ]
  }
 ],
 "metadata": {
  "kernelspec": {
   "display_name": "Python 2",
   "language": "python",
   "name": "python2"
  },
  "language_info": {
   "codemirror_mode": {
    "name": "ipython",
    "version": 2
   },
   "file_extension": ".py",
   "mimetype": "text/x-python",
   "name": "python",
   "nbconvert_exporter": "python",
   "pygments_lexer": "ipython2",
   "version": "2.7.18"
  }
 },
 "nbformat": 4,
 "nbformat_minor": 2
}
